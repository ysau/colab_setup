{
  "cells": [
    {
      "cell_type": "markdown",
      "metadata": {
        "id": "view-in-github",
        "colab_type": "text"
      },
      "source": [
        "<a href=\"https://colab.research.google.com/github/ysau/colab_setup/blob/main/setup.ipynb\" target=\"_parent\"><img src=\"https://colab.research.google.com/assets/colab-badge.svg\" alt=\"Open In Colab\"/></a>"
      ]
    },
    {
      "cell_type": "markdown",
      "metadata": {
        "id": "TUeyzSFoZqTm"
      },
      "source": [
        "# Using Colab with Google Drive and GitHub\n",
        "This tutorial shows how to use Colab with Google Drive (G-Drive) for storage and GitHub for version control.\n",
        "\n",
        "## Summary of Steps\n",
        "1. Mount Google Drive and create a symbolic link.\n",
        "2. Copy the SSH key to access your GitHub repository.\n",
        "3. Install the required packages."
      ]
    },
    {
      "cell_type": "markdown",
      "metadata": {
        "id": "qgZYjKC5ZqTn"
      },
      "source": [
        "### Mount Google Drive\n",
        "Since Colab doesn't have its own persistent storage, you need to use external storage like Google Drive.\n",
        "\n",
        "1. Create a working directory on Google Drive. In this example, we'll use `colab`.\n",
        "2. Create a Git directory (e.g., `colab_setup`) locally on your computer.\n",
        "3. Upload the entire Git directory to Google Drive at `colab/colab_setup`.\n",
        "4. In the Colab notebook, run the following code to mount Google Drive:"
      ]
    },
    {
      "cell_type": "code",
      "execution_count": 1,
      "metadata": {
        "vscode": {
          "languageId": "plaintext"
        },
        "colab": {
          "base_uri": "https://localhost:8080/"
        },
        "id": "fRkR8uZ9ZqTn",
        "outputId": "57106349-15c9-4555-ada1-c3eca937f466"
      },
      "outputs": [
        {
          "output_type": "stream",
          "name": "stdout",
          "text": [
            "Mounted at /content/drive\n"
          ]
        }
      ],
      "source": [
        "from google.colab import drive\n",
        "drive.mount('/content/drive')"
      ]
    },
    {
      "cell_type": "markdown",
      "metadata": {
        "id": "cS7tMsFnZqTo"
      },
      "source": [
        "5. Create a symbolic link for quick access to the directory:"
      ]
    },
    {
      "cell_type": "code",
      "execution_count": 2,
      "metadata": {
        "vscode": {
          "languageId": "plaintext"
        },
        "id": "aDoQyPAvZqTo"
      },
      "outputs": [],
      "source": [
        "!ln -s drive/MyDrive/colab/colab_setup/ colab_setup"
      ]
    },
    {
      "cell_type": "markdown",
      "metadata": {
        "id": "iHPJJ1wZZqTo"
      },
      "source": [
        "### Set up GitHub Access\n",
        "Colab initializes a new virtual machine each time you launch a notebook. To maintain persistent access to your GitHub repository, store the .ssh folder on Google Drive (`colab`).\n",
        "\n",
        "1. Copy the access keys to the virtual machine:"
      ]
    },
    {
      "cell_type": "code",
      "execution_count": 3,
      "metadata": {
        "vscode": {
          "languageId": "plaintext"
        },
        "id": "1Iw39YkYZqTo"
      },
      "outputs": [],
      "source": [
        "!cp -r drive/MyDrive/colab/.ssh /root/.ssh"
      ]
    },
    {
      "cell_type": "markdown",
      "metadata": {
        "id": "cNysyyCjZqTo"
      },
      "source": [
        "### Install Required Packages\n",
        "1. Change the working directory:"
      ]
    },
    {
      "cell_type": "code",
      "execution_count": 4,
      "metadata": {
        "vscode": {
          "languageId": "plaintext"
        },
        "colab": {
          "base_uri": "https://localhost:8080/"
        },
        "id": "LYkL3bHzZqTo",
        "outputId": "8e6c53d1-3ec5-4784-873b-71e04016c308"
      },
      "outputs": [
        {
          "output_type": "stream",
          "name": "stdout",
          "text": [
            "/content/drive/MyDrive/colab/colab_setup\n"
          ]
        }
      ],
      "source": [
        "%cd colab_setup"
      ]
    },
    {
      "cell_type": "markdown",
      "metadata": {
        "id": "krFfLXToZqTo"
      },
      "source": [
        "2. Install the dependencies listed in requirements.txt:"
      ]
    },
    {
      "cell_type": "code",
      "execution_count": 5,
      "metadata": {
        "vscode": {
          "languageId": "plaintext"
        },
        "colab": {
          "base_uri": "https://localhost:8080/"
        },
        "id": "Rg850HT6ZqTo",
        "outputId": "02d2640c-d973-4404-cac6-d4d755ad80ef"
      },
      "outputs": [
        {
          "output_type": "stream",
          "name": "stdout",
          "text": [
            "Collecting loguru==0.7.2 (from -r requirements.txt (line 1))\n",
            "  Downloading loguru-0.7.2-py3-none-any.whl.metadata (23 kB)\n",
            "Downloading loguru-0.7.2-py3-none-any.whl (62 kB)\n",
            "\u001b[2K   \u001b[90m━━━━━━━━━━━━━━━━━━━━━━━━━━━━━━━━━━━━━━━━\u001b[0m \u001b[32m62.5/62.5 kB\u001b[0m \u001b[31m800.4 kB/s\u001b[0m eta \u001b[36m0:00:00\u001b[0m\n",
            "\u001b[?25hInstalling collected packages: loguru\n",
            "Successfully installed loguru-0.7.2\n"
          ]
        }
      ],
      "source": [
        "!pip install -r requirements.txt"
      ]
    }
  ],
  "metadata": {
    "language_info": {
      "name": "python"
    },
    "colab": {
      "provenance": [],
      "include_colab_link": true
    },
    "kernelspec": {
      "name": "python3",
      "display_name": "Python 3"
    }
  },
  "nbformat": 4,
  "nbformat_minor": 0
}